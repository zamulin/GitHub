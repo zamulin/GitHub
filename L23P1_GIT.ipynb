{
 "cells": [
  {
   "cell_type": "markdown",
   "id": "9b990b6f-d746-4321-9e41-9c8045b477b3",
   "metadata": {},
   "source": [
    "# Занятие 23  \n",
    "# Git - система контроля управления версий"
   ]
  },
  {
   "cell_type": "markdown",
   "id": "7b000777-02a3-4043-b9c5-df34e441d2df",
   "metadata": {},
   "source": [
    "Система контроля версий — это система, записывающая изменения в файл или набор файлов в течение времени и позволяющая вернуться позже к определённой версии.  \n",
    "https://git-scm.com/downloads ссылка для скачивания"
   ]
  },
  {
   "cell_type": "markdown",
   "id": "866070cb-5b03-4f46-ae30-398da9829b63",
   "metadata": {},
   "source": [
    "Литература:"
   ]
  },
  {
   "cell_type": "markdown",
   "id": "1eefcfaa-dc25-4b6d-bc89-95c6c6152005",
   "metadata": {},
   "source": [
    "https://git-scm.com/book/ru/v2"
   ]
  },
  {
   "cell_type": "markdown",
   "id": "12528550-8f9a-438c-8744-1a871aa6dea7",
   "metadata": {},
   "source": [
    "https://pingvinus.ru/git"
   ]
  },
  {
   "cell_type": "markdown",
   "id": "45c82783-5e38-433f-8325-700328901170",
   "metadata": {},
   "source": [
    "# Работа с файловой системой "
   ]
  },
  {
   "cell_type": "markdown",
   "id": "6e14d5c2-2795-4270-91cc-0800c548a3aa",
   "metadata": {},
   "source": [
    "Модуль os в Python предоставляет множество функций для работы с операционной системой."
   ]
  },
  {
   "cell_type": "code",
   "execution_count": 1,
   "id": "6c8e2f48-b2ea-40d2-b3c8-ddda562a7aaa",
   "metadata": {},
   "outputs": [],
   "source": [
    "import os"
   ]
  },
  {
   "cell_type": "markdown",
   "id": "330c99fa-d898-4c36-b50f-f2ed75b04161",
   "metadata": {},
   "source": [
    "Функция getcwd() модуля os вернет строку, представляющую текущий рабочий каталог."
   ]
  },
  {
   "cell_type": "code",
   "execution_count": 2,
   "id": "9875811d-5010-42ad-8948-0c0e3a5f316e",
   "metadata": {},
   "outputs": [
    {
     "data": {
      "text/plain": [
       "'C:\\\\Users\\\\uoan_\\\\Python_for_beginners\\\\Lect_23'"
      ]
     },
     "execution_count": 2,
     "metadata": {},
     "output_type": "execute_result"
    }
   ],
   "source": [
    "os.getcwd()"
   ]
  },
  {
   "cell_type": "markdown",
   "id": "1b04e30d-078d-46ba-98b9-c662ad060ee5",
   "metadata": {},
   "source": [
    "Функция listdir() модуля os возвращает список, содержащий имена файлов и директорий в каталоге"
   ]
  },
  {
   "cell_type": "code",
   "execution_count": 3,
   "id": "a46e3dee-9960-4576-a8a8-8b9dd2d7ffaa",
   "metadata": {},
   "outputs": [
    {
     "data": {
      "text/plain": [
       "['.ipynb_checkpoints', 'L23P1_GIT.ipynb', 'L23P2_GIT.ipynb']"
      ]
     },
     "execution_count": 3,
     "metadata": {},
     "output_type": "execute_result"
    }
   ],
   "source": [
    "os.listdir()"
   ]
  },
  {
   "cell_type": "markdown",
   "id": "d60cf527-ee74-49c7-81f7-52f381d77335",
   "metadata": {},
   "source": [
    "Функция mkdir() модуля os создает каталог"
   ]
  },
  {
   "cell_type": "code",
   "execution_count": 4,
   "id": "10cc1b67-2d5e-4156-90a0-ca36ab0a686c",
   "metadata": {},
   "outputs": [],
   "source": [
    "os.mkdir(\"git\")"
   ]
  },
  {
   "cell_type": "code",
   "execution_count": 5,
   "id": "19184f1f-0ff6-4e09-8e54-65ad91380765",
   "metadata": {},
   "outputs": [
    {
     "data": {
      "text/plain": [
       "['.ipynb_checkpoints', 'git', 'L23P1_GIT.ipynb', 'L23P2_GIT.ipynb']"
      ]
     },
     "execution_count": 5,
     "metadata": {},
     "output_type": "execute_result"
    }
   ],
   "source": [
    "os.listdir()"
   ]
  },
  {
   "cell_type": "markdown",
   "id": "3538317c-343c-48ef-a15d-c2191f3c6ea3",
   "metadata": {},
   "source": [
    "Зайдем в созданный каталог и назначим его в качестве рабочего для дальнейших действий. Для этого воспользуемся функцией chdir() "
   ]
  },
  {
   "cell_type": "code",
   "execution_count": 6,
   "id": "346052fd-0474-4e0d-818b-838f43aebd4c",
   "metadata": {},
   "outputs": [],
   "source": [
    "os.chdir(\"git\")"
   ]
  },
  {
   "cell_type": "code",
   "execution_count": 7,
   "id": "73a3a4e5-3e38-4183-8cd8-730f05360428",
   "metadata": {},
   "outputs": [
    {
     "data": {
      "text/plain": [
       "'C:\\\\Users\\\\uoan_\\\\Python_for_beginners\\\\Lect_23\\\\git'"
      ]
     },
     "execution_count": 7,
     "metadata": {},
     "output_type": "execute_result"
    }
   ],
   "source": [
    "os.getcwd()"
   ]
  },
  {
   "cell_type": "markdown",
   "id": "81e05c6b-5b89-4502-bec7-e01552ee1687",
   "metadata": {},
   "source": [
    "# Работа с git. Инициализация, создание коммитов, просмотр истории, перемещение между версиями"
   ]
  },
  {
   "cell_type": "markdown",
   "id": "1af17199-8250-4d27-8c6a-68b857c9be2d",
   "metadata": {},
   "source": [
    "Проверим, что git работает, проверим его версию"
   ]
  },
  {
   "cell_type": "code",
   "execution_count": 8,
   "id": "70b262e4-12af-486a-a698-24f7cd6a9e11",
   "metadata": {},
   "outputs": [
    {
     "name": "stdout",
     "output_type": "stream",
     "text": [
      "git version 2.44.0.windows.1\n"
     ]
    }
   ],
   "source": [
    "!git --version"
   ]
  },
  {
   "cell_type": "markdown",
   "id": "390f6a23-3e36-483e-a51b-1d052685b786",
   "metadata": {},
   "source": [
    "Для работы с git, ему нужно представиться"
   ]
  },
  {
   "cell_type": "code",
   "execution_count": 9,
   "id": "9753a1b2-46c6-419b-ba82-3febc726beae",
   "metadata": {},
   "outputs": [],
   "source": [
    "!git config --global user.name \"ivan\"\n",
    "!git config --global user.email ivann@mail.ru"
   ]
  },
  {
   "cell_type": "markdown",
   "id": "3b7fc77b-c654-4908-91dd-451e1078db69",
   "metadata": {},
   "source": [
    "Инициализация локального репозитория"
   ]
  },
  {
   "cell_type": "code",
   "execution_count": 10,
   "id": "7af134bf-b3e9-4dfd-97d2-2212e76f5faf",
   "metadata": {},
   "outputs": [
    {
     "name": "stdout",
     "output_type": "stream",
     "text": [
      "Initialized empty Git repository in C:/Users/uoan_/Python_for_beginners/Lect_23/git/.git/\n"
     ]
    }
   ],
   "source": [
    "!git init"
   ]
  },
  {
   "cell_type": "markdown",
   "id": "93644899-36ac-46de-b0cc-e5ec49acdb50",
   "metadata": {},
   "source": [
    "Проверим содержимое директории:"
   ]
  },
  {
   "cell_type": "code",
   "execution_count": 11,
   "id": "54d006e3-ccb8-4065-8cb8-875a1fe66991",
   "metadata": {},
   "outputs": [
    {
     "data": {
      "text/plain": [
       "['.git']"
      ]
     },
     "execution_count": 11,
     "metadata": {},
     "output_type": "execute_result"
    }
   ],
   "source": [
    "os.listdir()"
   ]
  },
  {
   "cell_type": "markdown",
   "id": "a63a7f22-abe8-4b6c-9c94-dcb93bd2b23b",
   "metadata": {},
   "source": [
    "Получить информацию от git о его текущем состоянии"
   ]
  },
  {
   "cell_type": "code",
   "execution_count": 12,
   "id": "f17ff5cc-2e77-4625-bbb9-9d7a7d523186",
   "metadata": {},
   "outputs": [
    {
     "name": "stdout",
     "output_type": "stream",
     "text": [
      "On branch master\n",
      "\n",
      "No commits yet\n",
      "\n",
      "nothing to commit (create/copy files and use \"git add\" to track)\n"
     ]
    }
   ],
   "source": [
    "!git status"
   ]
  },
  {
   "cell_type": "markdown",
   "id": "1c51df5c-b5f1-4940-a58c-7ad33df91258",
   "metadata": {},
   "source": [
    "Запишем данные в файл и считаем его"
   ]
  },
  {
   "cell_type": "code",
   "execution_count": 13,
   "id": "df846049-d0b5-4333-8892-25266e71cfdf",
   "metadata": {},
   "outputs": [],
   "source": [
    "with open(\"file.txt\", \"w\", encoding='UTF-8') as f:\n",
    "    f.write(\"Запись 1\\n\")"
   ]
  },
  {
   "cell_type": "code",
   "execution_count": 14,
   "id": "f72b3c85-3647-4c44-a1a0-550114815d8a",
   "metadata": {},
   "outputs": [
    {
     "data": {
      "text/plain": [
       "['Запись 1\\n']"
      ]
     },
     "execution_count": 14,
     "metadata": {},
     "output_type": "execute_result"
    }
   ],
   "source": [
    "with open(\"file.txt\", \"r\", encoding='UTF-8') as f:\n",
    "    st = f.readlines()\n",
    "st"
   ]
  },
  {
   "cell_type": "markdown",
   "id": "5f7fe6d8-8812-4560-ac7a-84462c9bfdce",
   "metadata": {},
   "source": [
    "Еще раз получим информацию от git о его текущем состоянии"
   ]
  },
  {
   "cell_type": "code",
   "execution_count": 17,
   "id": "3d497e60-679c-475d-8ac7-e449a53b3d17",
   "metadata": {},
   "outputs": [
    {
     "name": "stdout",
     "output_type": "stream",
     "text": [
      "On branch master\n",
      "\n",
      "No commits yet\n",
      "\n",
      "Untracked files:\n",
      "  (use \"git add <file>...\" to include in what will be committed)\n",
      "\tfile.txt\n",
      "\n",
      "nothing added to commit but untracked files present (use \"git add\" to track)\n"
     ]
    }
   ],
   "source": [
    "!git status"
   ]
  },
  {
   "cell_type": "markdown",
   "id": "69f09149-4976-46b6-9576-776cdf6643d8",
   "metadata": {},
   "source": [
    "Создадим файл .gitignore. Он служит для игнорирования папок и файлов, они не отслеживаются git"
   ]
  },
  {
   "cell_type": "code",
   "execution_count": 16,
   "id": "73c45578-f757-44d0-8603-3fbb8b0a0cc9",
   "metadata": {},
   "outputs": [],
   "source": [
    "with open(\".gitignore\", \"w\") as f:\n",
    "    f.write(\".gitignore\\n\")\n",
    "    f.write(\".ipynb_checkpoints\")"
   ]
  },
  {
   "cell_type": "markdown",
   "id": "bd964ce2-9e37-4dad-b208-92e03655f260",
   "metadata": {},
   "source": [
    "Добавить файл или файлы к следующему коммиту"
   ]
  },
  {
   "cell_type": "code",
   "execution_count": 18,
   "id": "2dc3265d-d9a0-437b-b3c2-b73450fa00e4",
   "metadata": {},
   "outputs": [],
   "source": [
    "!git add ."
   ]
  },
  {
   "cell_type": "markdown",
   "id": "c15c3128-e3d4-4bda-a1b3-0d5ccdebc06d",
   "metadata": {},
   "source": [
    "В очередной раз получим информацию от git о его текущем состоянии"
   ]
  },
  {
   "cell_type": "code",
   "execution_count": 19,
   "id": "5e76f3f8-87dc-42bb-bd16-a3b4c54386bf",
   "metadata": {},
   "outputs": [
    {
     "name": "stdout",
     "output_type": "stream",
     "text": [
      "On branch master\n",
      "\n",
      "No commits yet\n",
      "\n",
      "Changes to be committed:\n",
      "  (use \"git rm --cached <file>...\" to unstage)\n",
      "\tnew file:   file.txt\n",
      "\n"
     ]
    }
   ],
   "source": [
    "!git status"
   ]
  },
  {
   "cell_type": "markdown",
   "id": "d7f96cf7-270d-4bc9-8c7c-a07c8d0e6508",
   "metadata": {},
   "source": [
    "Создадим коммит"
   ]
  },
  {
   "cell_type": "code",
   "execution_count": 20,
   "id": "5e082e88-7309-4f09-ad5d-ffeb8b7726b3",
   "metadata": {},
   "outputs": [
    {
     "name": "stdout",
     "output_type": "stream",
     "text": [
      "[master (root-commit) 391eebe] Commit_1\n",
      " 1 file changed, 1 insertion(+)\n",
      " create mode 100644 file.txt\n"
     ]
    }
   ],
   "source": [
    "!git commit -m \"Commit_1\""
   ]
  },
  {
   "cell_type": "code",
   "execution_count": 21,
   "id": "0f2a594f-a0ae-4ef4-b1a5-99a06eb25f8e",
   "metadata": {},
   "outputs": [
    {
     "name": "stdout",
     "output_type": "stream",
     "text": [
      "On branch master\n",
      "nothing to commit, working tree clean\n"
     ]
    }
   ],
   "source": [
    "!git status"
   ]
  },
  {
   "cell_type": "markdown",
   "id": "5c1fe632-b44e-48f2-874a-bbc2b0ae5678",
   "metadata": {},
   "source": [
    "Выведем истории всех коммитов с их хеш-кодами"
   ]
  },
  {
   "cell_type": "code",
   "execution_count": 22,
   "id": "288f3cca-ee55-4b6b-aedf-ee4f6dee68b8",
   "metadata": {},
   "outputs": [
    {
     "name": "stdout",
     "output_type": "stream",
     "text": [
      "commit 391eebe80e3602739b011629ca54f07dccf3debc\n",
      "Author: ivan <ivann@mail.ru>\n",
      "Date:   Mon Apr 15 14:31:01 2024 +0700\n",
      "\n",
      "    Commit_1\n"
     ]
    }
   ],
   "source": [
    "!git log"
   ]
  },
  {
   "cell_type": "markdown",
   "id": "a533daeb-ab99-4d89-9c12-2ed0dac6d703",
   "metadata": {},
   "source": [
    "Добавим в файл file.txt и считаем данные"
   ]
  },
  {
   "cell_type": "code",
   "execution_count": 23,
   "id": "d39922a2-66a9-4155-a628-e5e046ce07b1",
   "metadata": {},
   "outputs": [],
   "source": [
    "with open(\"file.txt\", \"a\", encoding='UTF-8') as f:\n",
    "    f.write(\"Запись 2\\n\")"
   ]
  },
  {
   "cell_type": "code",
   "execution_count": 24,
   "id": "9d0fd2a9-1504-489b-b782-0dc76bba35b6",
   "metadata": {},
   "outputs": [
    {
     "data": {
      "text/plain": [
       "['Запись 1\\n', 'Запись 2\\n']"
      ]
     },
     "execution_count": 24,
     "metadata": {},
     "output_type": "execute_result"
    }
   ],
   "source": [
    "with open(\"file.txt\", \"r\", encoding='UTF-8') as f:\n",
    "    st = f.readlines()\n",
    "st"
   ]
  },
  {
   "cell_type": "markdown",
   "id": "024e1ea4-b406-4007-b4a1-3a366caa8cb5",
   "metadata": {},
   "source": [
    "Посмотрим на status (git status), после этого добавим файл для коммита (git add .), выполним коммит (git commit -m \"____\") и посмотрим на лог (git log)"
   ]
  },
  {
   "cell_type": "code",
   "execution_count": 25,
   "id": "65c74a6f-21cd-46a0-bb92-fc8d584c89b6",
   "metadata": {},
   "outputs": [
    {
     "name": "stdout",
     "output_type": "stream",
     "text": [
      "On branch master\n",
      "Changes not staged for commit:\n",
      "  (use \"git add <file>...\" to update what will be committed)\n",
      "  (use \"git restore <file>...\" to discard changes in working directory)\n",
      "\tmodified:   file.txt\n",
      "\n",
      "no changes added to commit (use \"git add\" and/or \"git commit -a\")\n"
     ]
    }
   ],
   "source": [
    "!git status"
   ]
  },
  {
   "cell_type": "code",
   "execution_count": 26,
   "id": "71972d2a-3d85-4f67-a444-90a2bf9d018c",
   "metadata": {},
   "outputs": [],
   "source": [
    "!git add ."
   ]
  },
  {
   "cell_type": "code",
   "execution_count": 27,
   "id": "0f833321-14bc-4e9c-94f9-4136a895f6a2",
   "metadata": {},
   "outputs": [
    {
     "name": "stdout",
     "output_type": "stream",
     "text": [
      "[master 58b5c6a] Commit_2\n",
      " 1 file changed, 1 insertion(+)\n"
     ]
    }
   ],
   "source": [
    "!git commit -m \"Commit_2\""
   ]
  },
  {
   "cell_type": "code",
   "execution_count": 28,
   "id": "0583a18a-de9e-45a7-8d59-228e8e003382",
   "metadata": {},
   "outputs": [
    {
     "name": "stdout",
     "output_type": "stream",
     "text": [
      "commit 58b5c6a9936b85e74984ddb13ff2c316ebdc4eac\n",
      "Author: ivan <ivann@mail.ru>\n",
      "Date:   Mon Apr 15 14:33:51 2024 +0700\n",
      "\n",
      "    Commit_2\n",
      "\n",
      "commit 391eebe80e3602739b011629ca54f07dccf3debc\n",
      "Author: ivan <ivann@mail.ru>\n",
      "Date:   Mon Apr 15 14:31:01 2024 +0700\n",
      "\n",
      "    Commit_1\n"
     ]
    }
   ],
   "source": [
    "!git log"
   ]
  },
  {
   "cell_type": "markdown",
   "id": "983f81d4-1908-4e1e-9310-9a8f478ea913",
   "metadata": {},
   "source": [
    "Для более наглядной работы git создадим еще один коммит с нашего файла, для этого сначала добавим в него еще одну запись"
   ]
  },
  {
   "cell_type": "code",
   "execution_count": 29,
   "id": "6cf1b7e9-e365-4064-9e08-55142e77dc7e",
   "metadata": {},
   "outputs": [
    {
     "data": {
      "text/plain": [
       "['Запись 1\\n', 'Запись 2\\n', 'Запись 3\\n']"
      ]
     },
     "execution_count": 29,
     "metadata": {},
     "output_type": "execute_result"
    }
   ],
   "source": [
    "with open(\"file.txt\", \"a\", encoding='UTF-8') as f:\n",
    "    f.write(\"Запись 3\\n\")\n",
    "with open(\"file.txt\", \"r\", encoding='UTF-8') as f:\n",
    "    st = f.readlines()\n",
    "st"
   ]
  },
  {
   "cell_type": "code",
   "execution_count": 30,
   "id": "989ad23c-354b-4203-9d27-ff5969158a0e",
   "metadata": {},
   "outputs": [
    {
     "name": "stdout",
     "output_type": "stream",
     "text": [
      "[master 5481531] Commit_3\n",
      " 1 file changed, 1 insertion(+)\n",
      "commit 5481531b9ec333d71749c61c7242e75e4213219b\n",
      "Author: ivan <ivann@mail.ru>\n",
      "Date:   Mon Apr 15 14:35:35 2024 +0700\n",
      "\n",
      "    Commit_3\n",
      "\n",
      "commit 58b5c6a9936b85e74984ddb13ff2c316ebdc4eac\n",
      "Author: ivan <ivann@mail.ru>\n",
      "Date:   Mon Apr 15 14:33:51 2024 +0700\n",
      "\n",
      "    Commit_2\n",
      "\n",
      "commit 391eebe80e3602739b011629ca54f07dccf3debc\n",
      "Author: ivan <ivann@mail.ru>\n",
      "Date:   Mon Apr 15 14:31:01 2024 +0700\n",
      "\n",
      "    Commit_1\n"
     ]
    }
   ],
   "source": [
    "!git add .\n",
    "!git commit -m \"Commit_3\"\n",
    "!git log"
   ]
  },
  {
   "cell_type": "markdown",
   "id": "c388fc9c-50a4-4862-a455-8baafba7a287",
   "metadata": {},
   "source": [
    "Команда checkout  позволяет переходить от одного коммита к другому. Но тут нужно быть осторожным, можно случайно удалить наши данные!!!  \n",
    "Для этого нужны первые четыре символа хеш-кода"
   ]
  },
  {
   "cell_type": "code",
   "execution_count": 31,
   "id": "dc1b3d0f-2b9a-472f-bb37-72a5017a6717",
   "metadata": {},
   "outputs": [
    {
     "name": "stderr",
     "output_type": "stream",
     "text": [
      "Note: switching to '391e'.\n",
      "\n",
      "You are in 'detached HEAD' state. You can look around, make experimental\n",
      "changes and commit them, and you can discard any commits you make in this\n",
      "state without impacting any branches by switching back to a branch.\n",
      "\n",
      "If you want to create a new branch to retain commits you create, you may\n",
      "do so (now or later) by using -c with the switch command. Example:\n",
      "\n",
      "  git switch -c <new-branch-name>\n",
      "\n",
      "Or undo this operation with:\n",
      "\n",
      "  git switch -\n",
      "\n",
      "Turn off this advice by setting config variable advice.detachedHead to false\n",
      "\n",
      "HEAD is now at 391eebe Commit_1\n"
     ]
    }
   ],
   "source": [
    "!git checkout 391e"
   ]
  },
  {
   "cell_type": "markdown",
   "id": "4bda796f-6ed6-43e4-afae-37a108d9d6ee",
   "metadata": {},
   "source": [
    "Считаем данные с файла file.txt"
   ]
  },
  {
   "cell_type": "code",
   "execution_count": 32,
   "id": "ae95a2b9-3880-4a3c-9167-492a62fa2fb8",
   "metadata": {},
   "outputs": [
    {
     "data": {
      "text/plain": [
       "['Запись 1\\n']"
      ]
     },
     "execution_count": 32,
     "metadata": {},
     "output_type": "execute_result"
    }
   ],
   "source": [
    "with open(\"file.txt\", \"r\", encoding='UTF-8') as f:\n",
    "    st = f.readlines()\n",
    "st"
   ]
  },
  {
   "cell_type": "code",
   "execution_count": 33,
   "id": "57c0f733-8913-4b9d-8119-f66f5ba3e4b2",
   "metadata": {},
   "outputs": [
    {
     "name": "stderr",
     "output_type": "stream",
     "text": [
      "Previous HEAD position was 391eebe Commit_1\n",
      "Switched to branch 'master'\n"
     ]
    }
   ],
   "source": [
    "!git checkout master"
   ]
  },
  {
   "cell_type": "code",
   "execution_count": 34,
   "id": "90c4b3b2-9c17-414a-8cc3-e41fd4dc2b6f",
   "metadata": {},
   "outputs": [
    {
     "data": {
      "text/plain": [
       "['Запись 1\\n', 'Запись 2\\n', 'Запись 3\\n']"
      ]
     },
     "execution_count": 34,
     "metadata": {},
     "output_type": "execute_result"
    }
   ],
   "source": [
    "with open(\"file.txt\", \"r\", encoding='UTF-8') as f:\n",
    "    st = f.readlines()\n",
    "st"
   ]
  },
  {
   "cell_type": "markdown",
   "id": "5a422ab6-dd2a-4875-837b-8a012cbbcd6b",
   "metadata": {},
   "source": [
    "# Создание веток, перемещение между ними "
   ]
  },
  {
   "cell_type": "markdown",
   "id": "8dca334e-c138-4509-9be4-4be0209fa0f1",
   "metadata": {},
   "source": [
    "Для просмотра веток существует команда branch. Звездочкой отображена та ветка, в которой мы сейчас находимся.  \n",
    "По умолчанию основную ветку git называет master"
   ]
  },
  {
   "cell_type": "code",
   "execution_count": 35,
   "id": "c149a39b-2f2a-48f3-b28e-f8425e53308f",
   "metadata": {},
   "outputs": [
    {
     "name": "stdout",
     "output_type": "stream",
     "text": [
      "* master\n"
     ]
    }
   ],
   "source": [
    "!git branch"
   ]
  },
  {
   "cell_type": "markdown",
   "id": "abf196e1-f1cb-4600-8069-86d8efee871e",
   "metadata": {},
   "source": [
    "При желании ее можно переименовать. Например на GitHub основная ветка по умолчанию называется main"
   ]
  },
  {
   "cell_type": "code",
   "execution_count": 36,
   "id": "7ddda7ca-c1a4-4f24-9556-8d452116c05a",
   "metadata": {},
   "outputs": [
    {
     "name": "stdout",
     "output_type": "stream",
     "text": [
      "* main\n"
     ]
    }
   ],
   "source": [
    "!git branch -m master main\n",
    "!git branch"
   ]
  },
  {
   "cell_type": "code",
   "execution_count": 37,
   "id": "1b8b48dc-3b37-40cd-a8bc-cb51aa24e598",
   "metadata": {},
   "outputs": [
    {
     "name": "stdout",
     "output_type": "stream",
     "text": [
      "* master\n"
     ]
    }
   ],
   "source": [
    "!git branch -m main master\n",
    "!git branch"
   ]
  },
  {
   "cell_type": "markdown",
   "id": "f4891952-4ce3-4f10-b085-89a0b49e77e4",
   "metadata": {},
   "source": [
    "Создадим ветку, убедимся, что она создана и перейдем в нее "
   ]
  },
  {
   "cell_type": "code",
   "execution_count": 38,
   "id": "741121a4-b026-4ffc-a14e-c3498d386bcc",
   "metadata": {},
   "outputs": [],
   "source": [
    "!git branch branch_1"
   ]
  },
  {
   "cell_type": "code",
   "execution_count": 39,
   "id": "e3ce90af-8e53-4d0e-b49d-187bce2affc3",
   "metadata": {},
   "outputs": [
    {
     "name": "stdout",
     "output_type": "stream",
     "text": [
      "  branch_1\n",
      "* master\n"
     ]
    }
   ],
   "source": [
    "!git branch"
   ]
  },
  {
   "cell_type": "code",
   "execution_count": 40,
   "id": "3f81fbf3-a260-4230-9f25-a647f2854b58",
   "metadata": {},
   "outputs": [
    {
     "name": "stderr",
     "output_type": "stream",
     "text": [
      "Switched to branch 'branch_1'\n"
     ]
    }
   ],
   "source": [
    "!git checkout branch_1"
   ]
  },
  {
   "cell_type": "code",
   "execution_count": 41,
   "id": "6d869d25-c20d-4f7c-83ad-56463d40a3ce",
   "metadata": {},
   "outputs": [
    {
     "name": "stdout",
     "output_type": "stream",
     "text": [
      "* branch_1\n",
      "  master\n"
     ]
    }
   ],
   "source": [
    "!git branch"
   ]
  },
  {
   "cell_type": "markdown",
   "id": "b9c23da3-cd73-40f4-9950-6cf984fb70c2",
   "metadata": {},
   "source": [
    "Считаем данные с файла file.txt и посмотрим лог"
   ]
  },
  {
   "cell_type": "code",
   "execution_count": 42,
   "id": "f06c9ca2-5d6f-41b1-9b10-1c963104a714",
   "metadata": {},
   "outputs": [
    {
     "data": {
      "text/plain": [
       "['Запись 1\\n', 'Запись 2\\n', 'Запись 3\\n']"
      ]
     },
     "execution_count": 42,
     "metadata": {},
     "output_type": "execute_result"
    }
   ],
   "source": [
    "with open(\"file.txt\", \"r\", encoding='UTF-8') as f:\n",
    "    st = f.readlines()\n",
    "st"
   ]
  },
  {
   "cell_type": "code",
   "execution_count": 43,
   "id": "2d80a10d-eb5d-487c-a624-e211b4620170",
   "metadata": {},
   "outputs": [
    {
     "name": "stdout",
     "output_type": "stream",
     "text": [
      "commit 5481531b9ec333d71749c61c7242e75e4213219b\n",
      "Author: ivan <ivann@mail.ru>\n",
      "Date:   Mon Apr 15 14:35:35 2024 +0700\n",
      "\n",
      "    Commit_3\n",
      "\n",
      "commit 58b5c6a9936b85e74984ddb13ff2c316ebdc4eac\n",
      "Author: ivan <ivann@mail.ru>\n",
      "Date:   Mon Apr 15 14:33:51 2024 +0700\n",
      "\n",
      "    Commit_2\n",
      "\n",
      "commit 391eebe80e3602739b011629ca54f07dccf3debc\n",
      "Author: ivan <ivann@mail.ru>\n",
      "Date:   Mon Apr 15 14:31:01 2024 +0700\n",
      "\n",
      "    Commit_1\n"
     ]
    }
   ],
   "source": [
    "!git log"
   ]
  },
  {
   "cell_type": "markdown",
   "id": "8f773e79-2f1b-4169-95fc-9b4cd35fbb39",
   "metadata": {},
   "source": [
    "В текущей ветке создадим еще один коммит нашего файла, для этого сначала добавим в него еще одну запись"
   ]
  },
  {
   "cell_type": "code",
   "execution_count": 44,
   "id": "7f812b00-a3ca-4200-8a35-b46aa480f5a8",
   "metadata": {},
   "outputs": [
    {
     "data": {
      "text/plain": [
       "['Запись 1\\n', 'Запись 2\\n', 'Запись 3\\n', 'Запись из ветки branch_1\\n']"
      ]
     },
     "execution_count": 44,
     "metadata": {},
     "output_type": "execute_result"
    }
   ],
   "source": [
    "with open(\"file.txt\", \"a\", encoding='UTF-8') as f:\n",
    "    f.write(\"Запись из ветки branch_1\\n\")\n",
    "with open(\"file.txt\", \"r\", encoding='UTF-8') as f:\n",
    "    st = f.readlines()\n",
    "st"
   ]
  },
  {
   "cell_type": "code",
   "execution_count": 45,
   "id": "75c8f675-bc96-4aa5-883e-f7d733f1191c",
   "metadata": {},
   "outputs": [
    {
     "name": "stdout",
     "output_type": "stream",
     "text": [
      "[branch_1 416a2ef] Commit_branch_1_1\n",
      " 1 file changed, 1 insertion(+)\n",
      "commit 416a2ef766f6c2f2750beba474df1d533378aabc\n",
      "Author: ivan <ivann@mail.ru>\n",
      "Date:   Mon Apr 15 14:49:12 2024 +0700\n",
      "\n",
      "    Commit_branch_1_1\n",
      "\n",
      "commit 5481531b9ec333d71749c61c7242e75e4213219b\n",
      "Author: ivan <ivann@mail.ru>\n",
      "Date:   Mon Apr 15 14:35:35 2024 +0700\n",
      "\n",
      "    Commit_3\n",
      "\n",
      "commit 58b5c6a9936b85e74984ddb13ff2c316ebdc4eac\n",
      "Author: ivan <ivann@mail.ru>\n",
      "Date:   Mon Apr 15 14:33:51 2024 +0700\n",
      "\n",
      "    Commit_2\n",
      "\n",
      "commit 391eebe80e3602739b011629ca54f07dccf3debc\n",
      "Author: ivan <ivann@mail.ru>\n",
      "Date:   Mon Apr 15 14:31:01 2024 +0700\n",
      "\n",
      "    Commit_1\n"
     ]
    }
   ],
   "source": [
    "!git add .\n",
    "!git commit -m \"Commit_branch_1_1\"\n",
    "!git log"
   ]
  },
  {
   "cell_type": "markdown",
   "id": "5b1d2999-884d-4257-8e7a-a8234758aae3",
   "metadata": {},
   "source": [
    "Вернемся в ветку master и посмотрим на лог "
   ]
  },
  {
   "cell_type": "code",
   "execution_count": 46,
   "id": "96aaa3f0-78b1-434a-9d03-ee80ef1875bf",
   "metadata": {},
   "outputs": [
    {
     "name": "stderr",
     "output_type": "stream",
     "text": [
      "Switched to branch 'master'\n"
     ]
    },
    {
     "name": "stdout",
     "output_type": "stream",
     "text": [
      "  branch_1\n",
      "* master\n"
     ]
    }
   ],
   "source": [
    "!git checkout master\n",
    "!git branch"
   ]
  },
  {
   "cell_type": "code",
   "execution_count": 47,
   "id": "79767603-417b-4b10-bc3d-be8b8fd18679",
   "metadata": {},
   "outputs": [
    {
     "name": "stdout",
     "output_type": "stream",
     "text": [
      "commit 5481531b9ec333d71749c61c7242e75e4213219b\n",
      "Author: ivan <ivann@mail.ru>\n",
      "Date:   Mon Apr 15 14:35:35 2024 +0700\n",
      "\n",
      "    Commit_3\n",
      "\n",
      "commit 58b5c6a9936b85e74984ddb13ff2c316ebdc4eac\n",
      "Author: ivan <ivann@mail.ru>\n",
      "Date:   Mon Apr 15 14:33:51 2024 +0700\n",
      "\n",
      "    Commit_2\n",
      "\n",
      "commit 391eebe80e3602739b011629ca54f07dccf3debc\n",
      "Author: ivan <ivann@mail.ru>\n",
      "Date:   Mon Apr 15 14:31:01 2024 +0700\n",
      "\n",
      "    Commit_1\n"
     ]
    }
   ],
   "source": [
    "!git log"
   ]
  },
  {
   "cell_type": "markdown",
   "id": "2ed2df48-0e83-4441-aaf7-c9eedf2212b7",
   "metadata": {},
   "source": [
    "Считаем данные с файла file.txt"
   ]
  },
  {
   "cell_type": "code",
   "execution_count": 48,
   "id": "e146cad7-a410-418f-9df0-2f5b1bb8eb58",
   "metadata": {
    "scrolled": true
   },
   "outputs": [
    {
     "data": {
      "text/plain": [
       "['Запись 1\\n', 'Запись 2\\n', 'Запись 3\\n']"
      ]
     },
     "execution_count": 48,
     "metadata": {},
     "output_type": "execute_result"
    }
   ],
   "source": [
    "with open(\"file.txt\", \"r\", encoding='UTF-8') as f:\n",
    "    st = f.readlines()\n",
    "st"
   ]
  },
  {
   "cell_type": "markdown",
   "id": "f4f1c24b-0480-495a-b70b-444c67addbee",
   "metadata": {},
   "source": [
    "Сольем ветки, для этого нужно находиться в той ветке, куда будем сливать, в нашем случае это master"
   ]
  },
  {
   "cell_type": "code",
   "execution_count": 49,
   "id": "4e702d94-36d3-4771-9b0c-dade6ae6f614",
   "metadata": {},
   "outputs": [
    {
     "name": "stdout",
     "output_type": "stream",
     "text": [
      "Updating 5481531..416a2ef\n",
      "Fast-forward\n",
      " file.txt | 1 +\n",
      " 1 file changed, 1 insertion(+)\n"
     ]
    }
   ],
   "source": [
    "!git merge branch_1"
   ]
  },
  {
   "cell_type": "code",
   "execution_count": 50,
   "id": "1e464c1a-d8e5-4cae-bd51-063cbc8bfc17",
   "metadata": {},
   "outputs": [
    {
     "name": "stdout",
     "output_type": "stream",
     "text": [
      "commit 416a2ef766f6c2f2750beba474df1d533378aabc\n",
      "Author: ivan <ivann@mail.ru>\n",
      "Date:   Mon Apr 15 14:49:12 2024 +0700\n",
      "\n",
      "    Commit_branch_1_1\n",
      "\n",
      "commit 5481531b9ec333d71749c61c7242e75e4213219b\n",
      "Author: ivan <ivann@mail.ru>\n",
      "Date:   Mon Apr 15 14:35:35 2024 +0700\n",
      "\n",
      "    Commit_3\n",
      "\n",
      "commit 58b5c6a9936b85e74984ddb13ff2c316ebdc4eac\n",
      "Author: ivan <ivann@mail.ru>\n",
      "Date:   Mon Apr 15 14:33:51 2024 +0700\n",
      "\n",
      "    Commit_2\n",
      "\n",
      "commit 391eebe80e3602739b011629ca54f07dccf3debc\n",
      "Author: ivan <ivann@mail.ru>\n",
      "Date:   Mon Apr 15 14:31:01 2024 +0700\n",
      "\n",
      "    Commit_1\n"
     ]
    }
   ],
   "source": [
    "!git log"
   ]
  },
  {
   "cell_type": "markdown",
   "id": "b95f840c-3782-46ea-a198-8e1d0c51d21e",
   "metadata": {},
   "source": [
    "Считаем данные с файла file.txt"
   ]
  },
  {
   "cell_type": "code",
   "execution_count": 51,
   "id": "843df13d-7444-4400-bfc9-40389439f0a1",
   "metadata": {
    "scrolled": true
   },
   "outputs": [
    {
     "data": {
      "text/plain": [
       "['Запись 1\\n', 'Запись 2\\n', 'Запись 3\\n', 'Запись из ветки branch_1\\n']"
      ]
     },
     "execution_count": 51,
     "metadata": {},
     "output_type": "execute_result"
    }
   ],
   "source": [
    "with open(\"file.txt\", \"r\", encoding='UTF-8') as f:\n",
    "    st = f.readlines()\n",
    "st"
   ]
  },
  {
   "cell_type": "markdown",
   "id": "3f72e572-6dd2-42b7-aab8-fe40f90b6b0f",
   "metadata": {},
   "source": [
    "Удалим ветку branch_1"
   ]
  },
  {
   "cell_type": "code",
   "execution_count": 52,
   "id": "d35f9b8e-763c-451b-a59f-ca39b2a3e036",
   "metadata": {},
   "outputs": [
    {
     "name": "stdout",
     "output_type": "stream",
     "text": [
      "Deleted branch branch_1 (was 416a2ef).\n"
     ]
    }
   ],
   "source": [
    "!git branch -d branch_1"
   ]
  },
  {
   "cell_type": "code",
   "execution_count": 53,
   "id": "d8f8862a-e03c-49d3-944b-b0b6ee92466b",
   "metadata": {},
   "outputs": [
    {
     "name": "stdout",
     "output_type": "stream",
     "text": [
      "* master\n"
     ]
    }
   ],
   "source": [
    "!git branch"
   ]
  },
  {
   "cell_type": "markdown",
   "id": "3c1b1c0e-1304-4aaf-af0d-8e72216067bd",
   "metadata": {},
   "source": [
    "Создадим новую ветку branch_2, перейдем в нее, запишем дополнительные данные, создадим коммит, вернемся назад в ветку master, в нее тоже запишем новые данные и создадим коммит. После этого попробуем слить ветки"
   ]
  },
  {
   "cell_type": "code",
   "execution_count": 54,
   "id": "2e225928-f783-4614-acd6-baa6d0afa676",
   "metadata": {},
   "outputs": [],
   "source": [
    "!git branch branch_2"
   ]
  },
  {
   "cell_type": "code",
   "execution_count": 55,
   "id": "f32137ef-e73f-4b32-afc8-b23a0344c80d",
   "metadata": {},
   "outputs": [
    {
     "name": "stdout",
     "output_type": "stream",
     "text": [
      "  branch_2\n",
      "* master\n"
     ]
    }
   ],
   "source": [
    "!git branch"
   ]
  },
  {
   "cell_type": "code",
   "execution_count": 56,
   "id": "f8190735-9f75-45c7-b7c4-e014789a49e7",
   "metadata": {},
   "outputs": [
    {
     "name": "stderr",
     "output_type": "stream",
     "text": [
      "Switched to branch 'branch_2'\n"
     ]
    },
    {
     "name": "stdout",
     "output_type": "stream",
     "text": [
      "* branch_2\n",
      "  master\n"
     ]
    }
   ],
   "source": [
    "!git checkout branch_2\n",
    "!git branch"
   ]
  },
  {
   "cell_type": "code",
   "execution_count": 57,
   "id": "4959eab4-629b-408b-b1dd-79ab59819374",
   "metadata": {},
   "outputs": [],
   "source": [
    "with open(\"file.txt\", \"a\", encoding='UTF-8') as f:\n",
    "    f.write(\"Запись из ветки branch_2\\n\")"
   ]
  },
  {
   "cell_type": "code",
   "execution_count": 58,
   "id": "b73a5b74-c892-4783-8a3f-f0d43423a677",
   "metadata": {},
   "outputs": [
    {
     "data": {
      "text/plain": [
       "['Запись 1\\n',\n",
       " 'Запись 2\\n',\n",
       " 'Запись 3\\n',\n",
       " 'Запись из ветки branch_1\\n',\n",
       " 'Запись из ветки branch_2\\n']"
      ]
     },
     "execution_count": 58,
     "metadata": {},
     "output_type": "execute_result"
    }
   ],
   "source": [
    "with open(\"file.txt\", \"r\", encoding='UTF-8') as f:\n",
    "    st = f.readlines()\n",
    "st"
   ]
  },
  {
   "cell_type": "code",
   "execution_count": 59,
   "id": "70f9a451-266c-45ab-9b08-016528476b00",
   "metadata": {},
   "outputs": [
    {
     "name": "stdout",
     "output_type": "stream",
     "text": [
      "On branch branch_2\n",
      "Changes not staged for commit:\n",
      "  (use \"git add <file>...\" to update what will be committed)\n",
      "  (use \"git restore <file>...\" to discard changes in working directory)\n",
      "\tmodified:   file.txt\n",
      "\n",
      "no changes added to commit (use \"git add\" and/or \"git commit -a\")\n"
     ]
    }
   ],
   "source": [
    "!git status"
   ]
  },
  {
   "cell_type": "code",
   "execution_count": 60,
   "id": "5872c729-afe5-4906-aac2-e9c787523ae9",
   "metadata": {},
   "outputs": [
    {
     "name": "stdout",
     "output_type": "stream",
     "text": [
      "[branch_2 a6d8939] Commit_branch_2_1\n",
      " 1 file changed, 1 insertion(+)\n",
      "commit a6d8939ea204c8fe2daec9e4766c70e8e4c1526f\n",
      "Author: ivan <ivann@mail.ru>\n",
      "Date:   Mon Apr 15 14:54:18 2024 +0700\n",
      "\n",
      "    Commit_branch_2_1\n",
      "\n",
      "commit 416a2ef766f6c2f2750beba474df1d533378aabc\n",
      "Author: ivan <ivann@mail.ru>\n",
      "Date:   Mon Apr 15 14:49:12 2024 +0700\n",
      "\n",
      "    Commit_branch_1_1\n",
      "\n",
      "commit 5481531b9ec333d71749c61c7242e75e4213219b\n",
      "Author: ivan <ivann@mail.ru>\n",
      "Date:   Mon Apr 15 14:35:35 2024 +0700\n",
      "\n",
      "    Commit_3\n",
      "\n",
      "commit 58b5c6a9936b85e74984ddb13ff2c316ebdc4eac\n",
      "Author: ivan <ivann@mail.ru>\n",
      "Date:   Mon Apr 15 14:33:51 2024 +0700\n",
      "\n",
      "    Commit_2\n",
      "\n",
      "commit 391eebe80e3602739b011629ca54f07dccf3debc\n",
      "Author: ivan <ivann@mail.ru>\n",
      "Date:   Mon Apr 15 14:31:01 2024 +0700\n",
      "\n",
      "    Commit_1\n"
     ]
    }
   ],
   "source": [
    "!git add .\n",
    "!git commit -m \"Commit_branch_2_1\"\n",
    "!git log"
   ]
  },
  {
   "cell_type": "code",
   "execution_count": 61,
   "id": "33a815c3-6f44-4919-a8df-ceb58b9b748d",
   "metadata": {},
   "outputs": [
    {
     "name": "stderr",
     "output_type": "stream",
     "text": [
      "Switched to branch 'master'\n"
     ]
    },
    {
     "name": "stdout",
     "output_type": "stream",
     "text": [
      "  branch_2\n",
      "* master\n"
     ]
    }
   ],
   "source": [
    "!git checkout master\n",
    "!git branch"
   ]
  },
  {
   "cell_type": "code",
   "execution_count": 62,
   "id": "06ba29f3-33b3-4df3-b11b-5eac09054332",
   "metadata": {},
   "outputs": [
    {
     "name": "stdout",
     "output_type": "stream",
     "text": [
      "commit 416a2ef766f6c2f2750beba474df1d533378aabc\n",
      "Author: ivan <ivann@mail.ru>\n",
      "Date:   Mon Apr 15 14:49:12 2024 +0700\n",
      "\n",
      "    Commit_branch_1_1\n",
      "\n",
      "commit 5481531b9ec333d71749c61c7242e75e4213219b\n",
      "Author: ivan <ivann@mail.ru>\n",
      "Date:   Mon Apr 15 14:35:35 2024 +0700\n",
      "\n",
      "    Commit_3\n",
      "\n",
      "commit 58b5c6a9936b85e74984ddb13ff2c316ebdc4eac\n",
      "Author: ivan <ivann@mail.ru>\n",
      "Date:   Mon Apr 15 14:33:51 2024 +0700\n",
      "\n",
      "    Commit_2\n",
      "\n",
      "commit 391eebe80e3602739b011629ca54f07dccf3debc\n",
      "Author: ivan <ivann@mail.ru>\n",
      "Date:   Mon Apr 15 14:31:01 2024 +0700\n",
      "\n",
      "    Commit_1\n"
     ]
    }
   ],
   "source": [
    "!git log"
   ]
  },
  {
   "cell_type": "code",
   "execution_count": 63,
   "id": "b316d768-6c61-40aa-9e0b-854b977353f5",
   "metadata": {},
   "outputs": [],
   "source": [
    "with open(\"file.txt\", \"a\", encoding='UTF-8') as f:\n",
    "    f.write(\"Запись из ветки master\\n\")"
   ]
  },
  {
   "cell_type": "code",
   "execution_count": 64,
   "id": "e256b94d-f288-4177-b39d-575c07372793",
   "metadata": {},
   "outputs": [
    {
     "data": {
      "text/plain": [
       "['Запись 1\\n',\n",
       " 'Запись 2\\n',\n",
       " 'Запись 3\\n',\n",
       " 'Запись из ветки branch_1\\n',\n",
       " 'Запись из ветки master\\n']"
      ]
     },
     "execution_count": 64,
     "metadata": {},
     "output_type": "execute_result"
    }
   ],
   "source": [
    "with open(\"file.txt\", \"r\", encoding='UTF-8') as f:\n",
    "    st = f.readlines()\n",
    "st"
   ]
  },
  {
   "cell_type": "code",
   "execution_count": 65,
   "id": "bf13e1fa-36ba-4e27-b8cf-b6a4c9082355",
   "metadata": {},
   "outputs": [
    {
     "name": "stdout",
     "output_type": "stream",
     "text": [
      "[master bf48490] Commit_master_1\n",
      " 1 file changed, 1 insertion(+)\n",
      "commit bf48490d3c5ae50c6a5e5e810ddb4e7540b46271\n",
      "Author: ivan <ivann@mail.ru>\n",
      "Date:   Mon Apr 15 14:54:56 2024 +0700\n",
      "\n",
      "    Commit_master_1\n",
      "\n",
      "commit 416a2ef766f6c2f2750beba474df1d533378aabc\n",
      "Author: ivan <ivann@mail.ru>\n",
      "Date:   Mon Apr 15 14:49:12 2024 +0700\n",
      "\n",
      "    Commit_branch_1_1\n",
      "\n",
      "commit 5481531b9ec333d71749c61c7242e75e4213219b\n",
      "Author: ivan <ivann@mail.ru>\n",
      "Date:   Mon Apr 15 14:35:35 2024 +0700\n",
      "\n",
      "    Commit_3\n",
      "\n",
      "commit 58b5c6a9936b85e74984ddb13ff2c316ebdc4eac\n",
      "Author: ivan <ivann@mail.ru>\n",
      "Date:   Mon Apr 15 14:33:51 2024 +0700\n",
      "\n",
      "    Commit_2\n",
      "\n",
      "commit 391eebe80e3602739b011629ca54f07dccf3debc\n",
      "Author: ivan <ivann@mail.ru>\n",
      "Date:   Mon Apr 15 14:31:01 2024 +0700\n",
      "\n",
      "    Commit_1\n"
     ]
    }
   ],
   "source": [
    "!git add .\n",
    "!git commit -m \"Commit_master_1\"\n",
    "!git log"
   ]
  },
  {
   "cell_type": "code",
   "execution_count": 66,
   "id": "db07910a-0f79-4fe5-9743-099ee764e223",
   "metadata": {},
   "outputs": [
    {
     "name": "stdout",
     "output_type": "stream",
     "text": [
      "Auto-merging file.txt\n",
      "CONFLICT (content): Merge conflict in file.txt\n",
      "Automatic merge failed; fix conflicts and then commit the result.\n"
     ]
    }
   ],
   "source": [
    "!git merge branch_2"
   ]
  },
  {
   "cell_type": "code",
   "execution_count": 67,
   "id": "f8dd3ec6-e0b7-4cc6-b5de-e4575925334f",
   "metadata": {},
   "outputs": [
    {
     "data": {
      "text/plain": [
       "['Запись 1\\n',\n",
       " 'Запись 2\\n',\n",
       " 'Запись 3\\n',\n",
       " 'Запись из ветки branch_1\\n',\n",
       " '<<<<<<< HEAD\\n',\n",
       " 'Запись из ветки master\\n',\n",
       " '=======\\n',\n",
       " 'Запись из ветки branch_2\\n',\n",
       " '>>>>>>> branch_2\\n']"
      ]
     },
     "execution_count": 67,
     "metadata": {},
     "output_type": "execute_result"
    }
   ],
   "source": [
    "with open(\"file.txt\", \"r\", encoding='UTF-8') as f:\n",
    "    st = f.readlines()\n",
    "st"
   ]
  },
  {
   "cell_type": "code",
   "execution_count": 68,
   "id": "6e696002-d9ac-4ef2-89cb-710aa386f6be",
   "metadata": {},
   "outputs": [
    {
     "name": "stdout",
     "output_type": "stream",
     "text": [
      "On branch master\n",
      "You have unmerged paths.\n",
      "  (fix conflicts and run \"git commit\")\n",
      "  (use \"git merge --abort\" to abort the merge)\n",
      "\n",
      "Unmerged paths:\n",
      "  (use \"git add <file>...\" to mark resolution)\n",
      "\tboth modified:   file.txt\n",
      "\n",
      "no changes added to commit (use \"git add\" and/or \"git commit -a\")\n"
     ]
    }
   ],
   "source": [
    "!git status"
   ]
  },
  {
   "cell_type": "markdown",
   "id": "61eec32e-8b34-4ee5-a9d6-be499e95398c",
   "metadata": {},
   "source": [
    "Остановим слияние "
   ]
  },
  {
   "cell_type": "code",
   "execution_count": 69,
   "id": "c1f63297-e0ef-4b3a-8e03-084af17a7082",
   "metadata": {},
   "outputs": [],
   "source": [
    "!git merge --abort"
   ]
  },
  {
   "cell_type": "code",
   "execution_count": 70,
   "id": "385b0546-5be7-47d4-8f90-35a1557127e1",
   "metadata": {},
   "outputs": [
    {
     "data": {
      "text/plain": [
       "['Запись 1\\n',\n",
       " 'Запись 2\\n',\n",
       " 'Запись 3\\n',\n",
       " 'Запись из ветки branch_1\\n',\n",
       " 'Запись из ветки master\\n']"
      ]
     },
     "execution_count": 70,
     "metadata": {},
     "output_type": "execute_result"
    }
   ],
   "source": [
    "with open(\"file.txt\", \"r\", encoding='UTF-8') as f:\n",
    "    st = f.readlines()\n",
    "st"
   ]
  },
  {
   "cell_type": "markdown",
   "id": "a7317f2a-a088-4d5a-bb84-d533f0824560",
   "metadata": {},
   "source": [
    "Удалим ветку branch_2"
   ]
  },
  {
   "cell_type": "code",
   "execution_count": 71,
   "id": "aebf457a-6fcc-44b9-8c26-48868b03f55c",
   "metadata": {},
   "outputs": [
    {
     "name": "stderr",
     "output_type": "stream",
     "text": [
      "error: the branch 'branch_2' is not fully merged\n",
      "hint: If you are sure you want to delete it, run 'git branch -D branch_2'\n",
      "hint: Disable this message with \"git config advice.forceDeleteBranch false\"\n"
     ]
    }
   ],
   "source": [
    "!git branch -d branch_2"
   ]
  },
  {
   "cell_type": "markdown",
   "id": "3fa46d3b-0688-46be-ac75-b361eaaba948",
   "metadata": {},
   "source": [
    "Принудительно удалим ветку branch_2"
   ]
  },
  {
   "cell_type": "code",
   "execution_count": 72,
   "id": "81f6763c-2779-46bc-9259-779a72314b12",
   "metadata": {},
   "outputs": [
    {
     "name": "stdout",
     "output_type": "stream",
     "text": [
      "Deleted branch branch_2 (was a6d8939).\n"
     ]
    }
   ],
   "source": [
    "!git branch -D branch_2"
   ]
  },
  {
   "cell_type": "code",
   "execution_count": 73,
   "id": "aecc0a26-0cde-4aee-b321-abeada9cad28",
   "metadata": {},
   "outputs": [
    {
     "name": "stdout",
     "output_type": "stream",
     "text": [
      "* master\n"
     ]
    }
   ],
   "source": [
    "!git branch"
   ]
  },
  {
   "cell_type": "code",
   "execution_count": null,
   "id": "930149d5-e2f8-409c-8945-35c57de68d24",
   "metadata": {},
   "outputs": [],
   "source": []
  }
 ],
 "metadata": {
  "kernelspec": {
   "display_name": "Python 3 (ipykernel)",
   "language": "python",
   "name": "python3"
  },
  "language_info": {
   "codemirror_mode": {
    "name": "ipython",
    "version": 3
   },
   "file_extension": ".py",
   "mimetype": "text/x-python",
   "name": "python",
   "nbconvert_exporter": "python",
   "pygments_lexer": "ipython3",
   "version": "3.11.7"
  }
 },
 "nbformat": 4,
 "nbformat_minor": 5
}
